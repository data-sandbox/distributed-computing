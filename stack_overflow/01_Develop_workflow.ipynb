{
 "cells": [
  {
   "attachments": {},
   "cell_type": "markdown",
   "metadata": {},
   "source": [
    "### 01 Develop Analysis Workflow\n",
    "\n",
    "This notebook aims to develop and test the Spark workflow before implementing everything into dedicated Python files for running on the cluster."
   ]
  },
  {
   "cell_type": "code",
   "execution_count": 23,
   "metadata": {},
   "outputs": [],
   "source": [
    "from pathlib import Path\n",
    "import pandas as pd"
   ]
  },
  {
   "attachments": {},
   "cell_type": "markdown",
   "metadata": {},
   "source": [
    "Although the intention here is to practice Spark and distributed computing, let's first look at the data in Pandas and use as a sanity check with Spark dataframes."
   ]
  },
  {
   "cell_type": "code",
   "execution_count": 24,
   "metadata": {},
   "outputs": [],
   "source": [
    "# Limit how many rows to import for speed\n",
    "nrows = 100_000"
   ]
  },
  {
   "cell_type": "code",
   "execution_count": 25,
   "metadata": {},
   "outputs": [
    {
     "name": "stdout",
     "output_type": "stream",
     "text": [
      "<class 'pandas.core.frame.DataFrame'>\n",
      "RangeIndex: 100000 entries, 0 to 99999\n",
      "Data columns (total 7 columns):\n",
      " #   Column        Non-Null Count   Dtype  \n",
      "---  ------        --------------   -----  \n",
      " 0   Id            100000 non-null  int64  \n",
      " 1   OwnerUserId   95342 non-null   float64\n",
      " 2   CreationDate  100000 non-null  object \n",
      " 3   ClosedDate    3331 non-null    object \n",
      " 4   Score         100000 non-null  int64  \n",
      " 5   Title         100000 non-null  object \n",
      " 6   Body          100000 non-null  object \n",
      "dtypes: float64(1), int64(2), object(4)\n",
      "memory usage: 5.3+ MB\n"
     ]
    }
   ],
   "source": [
    "questions = pd.read_csv(Path('./assets/Questions2.csv'), nrows=nrows,\n",
    "                encoding=\"ISO-8859-1\").dropna(subset=[\"Id\", \"Body\", \"CreationDate\"])\n",
    "questions.info()"
   ]
  },
  {
   "cell_type": "code",
   "execution_count": 26,
   "metadata": {},
   "outputs": [
    {
     "data": {
      "text/html": [
       "<div>\n",
       "<style scoped>\n",
       "    .dataframe tbody tr th:only-of-type {\n",
       "        vertical-align: middle;\n",
       "    }\n",
       "\n",
       "    .dataframe tbody tr th {\n",
       "        vertical-align: top;\n",
       "    }\n",
       "\n",
       "    .dataframe thead th {\n",
       "        text-align: right;\n",
       "    }\n",
       "</style>\n",
       "<table border=\"1\" class=\"dataframe\">\n",
       "  <thead>\n",
       "    <tr style=\"text-align: right;\">\n",
       "      <th></th>\n",
       "      <th>Id</th>\n",
       "      <th>OwnerUserId</th>\n",
       "      <th>CreationDate</th>\n",
       "      <th>ClosedDate</th>\n",
       "      <th>Score</th>\n",
       "      <th>Title</th>\n",
       "      <th>Body</th>\n",
       "    </tr>\n",
       "  </thead>\n",
       "  <tbody>\n",
       "    <tr>\n",
       "      <th>0</th>\n",
       "      <td>80</td>\n",
       "      <td>26.0</td>\n",
       "      <td>2008-08-01T13:57:07Z</td>\n",
       "      <td>NaN</td>\n",
       "      <td>26</td>\n",
       "      <td>SQLStatement.execute() - multiple queries in o...</td>\n",
       "      <td>&lt;p&gt;I've written a database generation script i...</td>\n",
       "    </tr>\n",
       "    <tr>\n",
       "      <th>1</th>\n",
       "      <td>90</td>\n",
       "      <td>58.0</td>\n",
       "      <td>2008-08-01T14:41:24Z</td>\n",
       "      <td>2012-12-26T03:45:49Z</td>\n",
       "      <td>144</td>\n",
       "      <td>Good branching and merging tutorials for Torto...</td>\n",
       "      <td>&lt;p&gt;Are there any really good tutorials explain...</td>\n",
       "    </tr>\n",
       "    <tr>\n",
       "      <th>2</th>\n",
       "      <td>120</td>\n",
       "      <td>83.0</td>\n",
       "      <td>2008-08-01T15:50:08Z</td>\n",
       "      <td>NaN</td>\n",
       "      <td>21</td>\n",
       "      <td>ASP.NET Site Maps</td>\n",
       "      <td>&lt;p&gt;Has anyone got experience creating &lt;strong&gt;...</td>\n",
       "    </tr>\n",
       "    <tr>\n",
       "      <th>3</th>\n",
       "      <td>180</td>\n",
       "      <td>2089740.0</td>\n",
       "      <td>2008-08-01T18:42:19Z</td>\n",
       "      <td>NaN</td>\n",
       "      <td>53</td>\n",
       "      <td>Function for creating color wheels</td>\n",
       "      <td>&lt;p&gt;This is something I've pseudo-solved many t...</td>\n",
       "    </tr>\n",
       "    <tr>\n",
       "      <th>4</th>\n",
       "      <td>260</td>\n",
       "      <td>91.0</td>\n",
       "      <td>2008-08-01T23:22:08Z</td>\n",
       "      <td>NaN</td>\n",
       "      <td>49</td>\n",
       "      <td>Adding scripting functionality to .NET applica...</td>\n",
       "      <td>&lt;p&gt;I have a little game written in C#. It uses...</td>\n",
       "    </tr>\n",
       "  </tbody>\n",
       "</table>\n",
       "</div>"
      ],
      "text/plain": [
       "    Id  OwnerUserId          CreationDate            ClosedDate  Score  \\\n",
       "0   80         26.0  2008-08-01T13:57:07Z                   NaN     26   \n",
       "1   90         58.0  2008-08-01T14:41:24Z  2012-12-26T03:45:49Z    144   \n",
       "2  120         83.0  2008-08-01T15:50:08Z                   NaN     21   \n",
       "3  180    2089740.0  2008-08-01T18:42:19Z                   NaN     53   \n",
       "4  260         91.0  2008-08-01T23:22:08Z                   NaN     49   \n",
       "\n",
       "                                               Title  \\\n",
       "0  SQLStatement.execute() - multiple queries in o...   \n",
       "1  Good branching and merging tutorials for Torto...   \n",
       "2                                  ASP.NET Site Maps   \n",
       "3                 Function for creating color wheels   \n",
       "4  Adding scripting functionality to .NET applica...   \n",
       "\n",
       "                                                Body  \n",
       "0  <p>I've written a database generation script i...  \n",
       "1  <p>Are there any really good tutorials explain...  \n",
       "2  <p>Has anyone got experience creating <strong>...  \n",
       "3  <p>This is something I've pseudo-solved many t...  \n",
       "4  <p>I have a little game written in C#. It uses...  "
      ]
     },
     "execution_count": 26,
     "metadata": {},
     "output_type": "execute_result"
    }
   ],
   "source": [
    "questions.sort_values(by=\"Id\").head(5)"
   ]
  },
  {
   "cell_type": "code",
   "execution_count": 27,
   "metadata": {},
   "outputs": [
    {
     "name": "stdout",
     "output_type": "stream",
     "text": [
      "<class 'pandas.core.frame.DataFrame'>\n",
      "Int64Index: 96675 entries, 0 to 99999\n",
      "Data columns (total 6 columns):\n",
      " #   Column        Non-Null Count  Dtype  \n",
      "---  ------        --------------  -----  \n",
      " 0   Id            96675 non-null  int64  \n",
      " 1   OwnerUserId   96675 non-null  float64\n",
      " 2   CreationDate  96675 non-null  object \n",
      " 3   ParentId      96675 non-null  int64  \n",
      " 4   Score         96675 non-null  int64  \n",
      " 5   Body          96675 non-null  object \n",
      "dtypes: float64(1), int64(3), object(2)\n",
      "memory usage: 5.2+ MB\n"
     ]
    }
   ],
   "source": [
    "answers = pd.read_csv(Path('./assets/Answers.csv'), nrows=nrows,\n",
    "                encoding=\"ISO-8859-1\").dropna()\n",
    "answers.info()"
   ]
  },
  {
   "cell_type": "code",
   "execution_count": 28,
   "metadata": {},
   "outputs": [
    {
     "data": {
      "text/html": [
       "<div>\n",
       "<style scoped>\n",
       "    .dataframe tbody tr th:only-of-type {\n",
       "        vertical-align: middle;\n",
       "    }\n",
       "\n",
       "    .dataframe tbody tr th {\n",
       "        vertical-align: top;\n",
       "    }\n",
       "\n",
       "    .dataframe thead th {\n",
       "        text-align: right;\n",
       "    }\n",
       "</style>\n",
       "<table border=\"1\" class=\"dataframe\">\n",
       "  <thead>\n",
       "    <tr style=\"text-align: right;\">\n",
       "      <th></th>\n",
       "      <th>Id</th>\n",
       "      <th>OwnerUserId</th>\n",
       "      <th>CreationDate</th>\n",
       "      <th>ParentId</th>\n",
       "      <th>Score</th>\n",
       "      <th>Body</th>\n",
       "    </tr>\n",
       "  </thead>\n",
       "  <tbody>\n",
       "    <tr>\n",
       "      <th>0</th>\n",
       "      <td>92</td>\n",
       "      <td>61.0</td>\n",
       "      <td>2008-08-01T14:45:37Z</td>\n",
       "      <td>90</td>\n",
       "      <td>13</td>\n",
       "      <td>&lt;p&gt;&lt;a href=\"http://svnbook.red-bean.com/\"&gt;Vers...</td>\n",
       "    </tr>\n",
       "    <tr>\n",
       "      <th>1</th>\n",
       "      <td>124</td>\n",
       "      <td>26.0</td>\n",
       "      <td>2008-08-01T16:09:47Z</td>\n",
       "      <td>80</td>\n",
       "      <td>12</td>\n",
       "      <td>&lt;p&gt;I wound up using this. It is a kind of a ha...</td>\n",
       "    </tr>\n",
       "    <tr>\n",
       "      <th>2</th>\n",
       "      <td>199</td>\n",
       "      <td>50.0</td>\n",
       "      <td>2008-08-01T19:36:46Z</td>\n",
       "      <td>180</td>\n",
       "      <td>1</td>\n",
       "      <td>&lt;p&gt;I've read somewhere the human eye can't dis...</td>\n",
       "    </tr>\n",
       "    <tr>\n",
       "      <th>3</th>\n",
       "      <td>269</td>\n",
       "      <td>91.0</td>\n",
       "      <td>2008-08-01T23:49:57Z</td>\n",
       "      <td>260</td>\n",
       "      <td>4</td>\n",
       "      <td>&lt;p&gt;Yes, I thought about that, but I soon figur...</td>\n",
       "    </tr>\n",
       "    <tr>\n",
       "      <th>4</th>\n",
       "      <td>307</td>\n",
       "      <td>49.0</td>\n",
       "      <td>2008-08-02T01:49:46Z</td>\n",
       "      <td>260</td>\n",
       "      <td>28</td>\n",
       "      <td>&lt;p&gt;&lt;a href=\"http://www.codeproject.com/Article...</td>\n",
       "    </tr>\n",
       "  </tbody>\n",
       "</table>\n",
       "</div>"
      ],
      "text/plain": [
       "    Id  OwnerUserId          CreationDate  ParentId  Score  \\\n",
       "0   92         61.0  2008-08-01T14:45:37Z        90     13   \n",
       "1  124         26.0  2008-08-01T16:09:47Z        80     12   \n",
       "2  199         50.0  2008-08-01T19:36:46Z       180      1   \n",
       "3  269         91.0  2008-08-01T23:49:57Z       260      4   \n",
       "4  307         49.0  2008-08-02T01:49:46Z       260     28   \n",
       "\n",
       "                                                Body  \n",
       "0  <p><a href=\"http://svnbook.red-bean.com/\">Vers...  \n",
       "1  <p>I wound up using this. It is a kind of a ha...  \n",
       "2  <p>I've read somewhere the human eye can't dis...  \n",
       "3  <p>Yes, I thought about that, but I soon figur...  \n",
       "4  <p><a href=\"http://www.codeproject.com/Article...  "
      ]
     },
     "execution_count": 28,
     "metadata": {},
     "output_type": "execute_result"
    }
   ],
   "source": [
    "answers.head(5)"
   ]
  },
  {
   "cell_type": "code",
   "execution_count": 29,
   "metadata": {},
   "outputs": [
    {
     "name": "stdout",
     "output_type": "stream",
     "text": [
      "<class 'pandas.core.frame.DataFrame'>\n",
      "Int64Index: 3749881 entries, 0 to 3750993\n",
      "Data columns (total 2 columns):\n",
      " #   Column  Dtype \n",
      "---  ------  ----- \n",
      " 0   Id      int64 \n",
      " 1   Tag     object\n",
      "dtypes: int64(1), object(1)\n",
      "memory usage: 85.8+ MB\n"
     ]
    }
   ],
   "source": [
    "tags = pd.read_csv(Path('./assets/Tags.csv'),\n",
    "                encoding=\"ISO-8859-1\").dropna()\n",
    "tags.info()"
   ]
  },
  {
   "cell_type": "code",
   "execution_count": 30,
   "metadata": {},
   "outputs": [
    {
     "data": {
      "text/html": [
       "<div>\n",
       "<style scoped>\n",
       "    .dataframe tbody tr th:only-of-type {\n",
       "        vertical-align: middle;\n",
       "    }\n",
       "\n",
       "    .dataframe tbody tr th {\n",
       "        vertical-align: top;\n",
       "    }\n",
       "\n",
       "    .dataframe thead th {\n",
       "        text-align: right;\n",
       "    }\n",
       "</style>\n",
       "<table border=\"1\" class=\"dataframe\">\n",
       "  <thead>\n",
       "    <tr style=\"text-align: right;\">\n",
       "      <th></th>\n",
       "      <th>Id</th>\n",
       "      <th>Tag</th>\n",
       "    </tr>\n",
       "  </thead>\n",
       "  <tbody>\n",
       "    <tr>\n",
       "      <th>0</th>\n",
       "      <td>80</td>\n",
       "      <td>flex</td>\n",
       "    </tr>\n",
       "    <tr>\n",
       "      <th>1</th>\n",
       "      <td>80</td>\n",
       "      <td>actionscript-3</td>\n",
       "    </tr>\n",
       "    <tr>\n",
       "      <th>2</th>\n",
       "      <td>80</td>\n",
       "      <td>air</td>\n",
       "    </tr>\n",
       "    <tr>\n",
       "      <th>3</th>\n",
       "      <td>90</td>\n",
       "      <td>svn</td>\n",
       "    </tr>\n",
       "    <tr>\n",
       "      <th>4</th>\n",
       "      <td>90</td>\n",
       "      <td>tortoisesvn</td>\n",
       "    </tr>\n",
       "  </tbody>\n",
       "</table>\n",
       "</div>"
      ],
      "text/plain": [
       "   Id             Tag\n",
       "0  80            flex\n",
       "1  80  actionscript-3\n",
       "2  80             air\n",
       "3  90             svn\n",
       "4  90     tortoisesvn"
      ]
     },
     "execution_count": 30,
     "metadata": {},
     "output_type": "execute_result"
    }
   ],
   "source": [
    "tags.head()"
   ]
  },
  {
   "attachments": {},
   "cell_type": "markdown",
   "metadata": {},
   "source": [
    "### PySpark: Preprocess\n",
    "\n",
    "Now let's jump into Spark. We'll start by reading in the csv files. Note that we set a row limit to minimize computations here. When we're ready to run everything on the cluster, the limit will be removed."
   ]
  },
  {
   "cell_type": "code",
   "execution_count": 31,
   "metadata": {},
   "outputs": [],
   "source": [
    "from pyspark.sql import SparkSession\n",
    "from pyspark.sql.types import IntegerType, LongType\n",
    "from pyspark.sql import functions as F\n",
    "\n",
    "spark = SparkSession.builder.appName(\"StackOverflow\").getOrCreate()"
   ]
  },
  {
   "cell_type": "code",
   "execution_count": 32,
   "metadata": {},
   "outputs": [
    {
     "name": "stdout",
     "output_type": "stream",
     "text": [
      "23/03/24 13:09:32 WARN CacheManager: Asked to cache already cached data.\n",
      "23/03/24 13:09:32 WARN CacheManager: Asked to cache already cached data.\n",
      "23/03/24 13:09:32 WARN CacheManager: Asked to cache already cached data.\n"
     ]
    }
   ],
   "source": [
    "df_questions = (spark.read.options(encoding=\"ISO-8859-1\",\n",
    "                header=True, multiLine=False, mode=\"DROPMALFORMED\")\n",
    "                .csv(\"./assets/Questions.csv\")\n",
    "                .limit(100_000)\n",
    "                ).cache()\n",
    "\n",
    "df_answers = (spark.read.options(encoding=\"ISO-8859-1\", \n",
    "                header=True, mode=\"DROPMALFORMED\", multiLine=False)\n",
    "                .csv('./assets/Answers.csv')\n",
    "                .limit(100_000)\n",
    "                ).cache()\n",
    "\n",
    "df_tags = (spark.read.options(encoding=\"ISO-8859-1\", \n",
    "            header=True, mode=\"DROPMALFORMED\", multiLine=False)\n",
    "            .csv('./assets/Tags.csv')\n",
    "            .limit(100_000)\n",
    "            ).cache()"
   ]
  },
  {
   "cell_type": "code",
   "execution_count": 33,
   "metadata": {},
   "outputs": [
    {
     "name": "stderr",
     "output_type": "stream",
     "text": [
      "[Stage 10:>                                                         (0 + 8) / 8]\r"
     ]
    },
    {
     "name": "stdout",
     "output_type": "stream",
     "text": [
      "100000 100000 100000\n"
     ]
    },
    {
     "name": "stderr",
     "output_type": "stream",
     "text": [
      "                                                                                \r"
     ]
    }
   ],
   "source": [
    "# Confirm row limits\n",
    "print(df_questions.count(), df_answers.count(), df_tags.count())"
   ]
  },
  {
   "cell_type": "code",
   "execution_count": 34,
   "metadata": {},
   "outputs": [
    {
     "name": "stdout",
     "output_type": "stream",
     "text": [
      "root\n",
      " |-- Id: string (nullable = true)\n",
      " |-- OwnerUserId: string (nullable = true)\n",
      " |-- CreationDate: string (nullable = true)\n",
      " |-- ClosedDate: string (nullable = true)\n",
      " |-- Score: string (nullable = true)\n",
      " |-- Title: string (nullable = true)\n",
      " |-- Body: string (nullable = true)\n",
      "\n",
      "root\n",
      " |-- Id: string (nullable = true)\n",
      " |-- OwnerUserId: string (nullable = true)\n",
      " |-- CreationDate: string (nullable = true)\n",
      " |-- ParentId: string (nullable = true)\n",
      " |-- Score: string (nullable = true)\n",
      " |-- Body: string (nullable = true)\n",
      "\n",
      "root\n",
      " |-- Id: string (nullable = true)\n",
      " |-- Tag: string (nullable = true)\n",
      "\n"
     ]
    }
   ],
   "source": [
    "# Inspect Schemas\n",
    "df_questions.printSchema()\n",
    "df_answers.printSchema()\n",
    "df_tags.printSchema()"
   ]
  },
  {
   "cell_type": "code",
   "execution_count": 35,
   "metadata": {},
   "outputs": [],
   "source": [
    "# Convert datatypes and add column for finding time differences\n",
    "\n",
    "df_quest_filt = (df_questions\n",
    "                .withColumn('Id', df_questions['Id'].cast(IntegerType()))\n",
    "                .withColumn('OwnerUserId', df_questions['OwnerUserId'].cast(IntegerType()))\n",
    "                .withColumn('CreationDate', F.regexp_replace('CreationDate', 'T', ' '))\n",
    "                .withColumn('CreationDate', F.regexp_replace('CreationDate', 'Z', ''))\n",
    "                .withColumn('CreationTime', F.unix_timestamp('CreationDate', 'y-M-d HH:mm:ss').cast(LongType()))\n",
    "                .withColumn('ClosedDate', F.regexp_replace('ClosedDate', 'T', ' '))\n",
    "                .withColumn('ClosedDate', F.regexp_replace('ClosedDate', 'Z', ''))\n",
    "                .withColumn('ClosedTime', F.unix_timestamp('ClosedDate', 'y-M-d HH:mm:ss').cast(LongType()))\n",
    "                .withColumn('ElapsedTime', (F.col('ClosedTime') - F.col('CreationTime')))\n",
    "                .withColumn('Score', df_questions['Score'].cast(IntegerType()))\n",
    "                ).na.drop()\n",
    "\n",
    "df_answers_filt = (df_answers\n",
    "                    .withColumn('Id', df_answers['Id'].cast(IntegerType()))\n",
    "                    .withColumn('OwnerUserId', df_answers['OwnerUserId'].cast(IntegerType()))\n",
    "                    .withColumn('ParentId', df_answers['ParentId'].cast(IntegerType()))\n",
    "                    .withColumn('Score', df_answers['Score'].cast(IntegerType()))\n",
    "                    .withColumn('CreationDate', F.regexp_replace('CreationDate', 'T', ' '))\n",
    "                    .withColumn('CreationDate', F.regexp_replace('CreationDate', 'Z', ''))\n",
    "                    .withColumn('CreationTime', F.unix_timestamp('CreationDate', 'y-M-d HH:mm:ss').cast(LongType()))\n",
    "                    ).na.drop()\n",
    "\n",
    "df_tags_filt = (df_tags\n",
    "                .withColumn('Id', df_tags['Id'].cast(IntegerType()))\n",
    "                ).na.drop()        "
   ]
  },
  {
   "cell_type": "code",
   "execution_count": 36,
   "metadata": {},
   "outputs": [
    {
     "name": "stderr",
     "output_type": "stream",
     "text": [
      "                                                                                \r"
     ]
    },
    {
     "name": "stdout",
     "output_type": "stream",
     "text": [
      "3078 93357 100000\n"
     ]
    }
   ],
   "source": [
    "# Inspect counts after dropping nulls\n",
    "print(df_quest_filt.count(), df_answers_filt.count(), df_tags_filt.count())"
   ]
  },
  {
   "attachments": {},
   "cell_type": "markdown",
   "metadata": {},
   "source": [
    "Around 97% of questions are eliminated after dropping nulls! This is most likely due to nulls in question's \"ClosedDate\" column. This also indicates that taking the time difference between a question's CreationDate and ClosedDate will not be a good indicator. Let's try a different approach to removing nulls."
   ]
  },
  {
   "cell_type": "code",
   "execution_count": 37,
   "metadata": {},
   "outputs": [],
   "source": [
    "df_quest_filt = (df_questions\n",
    "                .withColumn('Id', df_questions['Id'].cast(IntegerType()))\n",
    "                .withColumn('OwnerUserId', df_questions['OwnerUserId'].cast(IntegerType()))\n",
    "                .withColumn('CreationDate', F.regexp_replace('CreationDate', 'T', ' '))\n",
    "                .withColumn('CreationDate', F.regexp_replace('CreationDate', 'Z', ''))\n",
    "                .withColumn('CreationTime', F.unix_timestamp('CreationDate', 'y-M-d HH:mm:ss').cast(LongType()))\n",
    "                .withColumn('ClosedDate', F.regexp_replace('ClosedDate', 'T', ' '))\n",
    "                .withColumn('ClosedDate', F.regexp_replace('ClosedDate', 'Z', ''))\n",
    "                .withColumn('ClosedTime', F.unix_timestamp('ClosedDate', 'y-M-d HH:mm:ss').cast(LongType()))\n",
    "                .withColumn('Score', df_questions['Score'].cast(IntegerType()))\n",
    "                ).na.drop(subset=[\"Id\", \"Body\", \"CreationTime\"])"
   ]
  },
  {
   "cell_type": "code",
   "execution_count": 38,
   "metadata": {},
   "outputs": [
    {
     "data": {
      "text/plain": [
       "97670"
      ]
     },
     "execution_count": 38,
     "metadata": {},
     "output_type": "execute_result"
    }
   ],
   "source": [
    "df_quest_filt.count()"
   ]
  },
  {
   "cell_type": "code",
   "execution_count": 51,
   "metadata": {},
   "outputs": [
    {
     "name": "stderr",
     "output_type": "stream",
     "text": [
      "[Stage 37:>                                                         (0 + 1) / 1]\r"
     ]
    },
    {
     "name": "stdout",
     "output_type": "stream",
     "text": [
      "+---+-----------+-------------------+-------------------+-----+--------------------+--------------------+------------+----------+\n",
      "| Id|OwnerUserId|       CreationDate|         ClosedDate|Score|               Title|                Body|CreationTime|ClosedTime|\n",
      "+---+-----------+-------------------+-------------------+-----+--------------------+--------------------+------------+----------+\n",
      "| 80|         26|2008-08-01 13:57:07|                 NA|   26|SQLStatement.exec...|\"<p>I've written ...|  1217613427|      null|\n",
      "| 90|         58|2008-08-01 14:41:24|2012-12-26 03:45:49|  144|Good branching an...|\"<p>Are there any...|  1217616084|1356511549|\n",
      "|120|         83|2008-08-01 15:50:08|                 NA|   21|   ASP.NET Site Maps|<p>Has anyone got...|  1217620208|      null|\n",
      "|180|    2089740|2008-08-01 18:42:19|                 NA|   53|Function for crea...|<p>This is someth...|  1217630539|      null|\n",
      "|260|         91|2008-08-01 23:22:08|                 NA|   49|Adding scripting ...|<p>I have a littl...|  1217647328|      null|\n",
      "|330|         63|2008-08-02 02:51:36|                 NA|   29|Should I use nest...|<p>I am working o...|  1217659896|      null|\n",
      "|470|         71|2008-08-02 15:11:47|2016-03-26 05:23:29|   13|Homegrown consump...|<p>I've been writ...|  1217704307|1458984209|\n",
      "|580|         91|2008-08-02 23:30:59|                 NA|   21|Deploying SQL Ser...|<p>I wonder how y...|  1217734259|      null|\n",
      "|650|        143|2008-08-03 11:12:52|                 NA|   79|Automatically upd...|<p>I would like t...|  1217776372|      null|\n",
      "|810|        233|2008-08-03 20:35:01|                 NA|    9|Visual Studio Set...|<p>I'm trying to ...|  1217810101|      null|\n",
      "+---+-----------+-------------------+-------------------+-----+--------------------+--------------------+------------+----------+\n",
      "only showing top 10 rows\n",
      "\n"
     ]
    },
    {
     "name": "stderr",
     "output_type": "stream",
     "text": [
      "                                                                                \r"
     ]
    }
   ],
   "source": [
    "df_quest_filt.sort(\"Id\", ascending=True).show(10)"
   ]
  },
  {
   "attachments": {},
   "cell_type": "markdown",
   "metadata": {},
   "source": [
    "This approach looks much better. Let's start exploring the data."
   ]
  },
  {
   "attachments": {},
   "cell_type": "markdown",
   "metadata": {},
   "source": [
    "TODO\n",
    "Guiding questions brainstorm:\n",
    "- What are top ten most commmon tags?\n",
    "- Predict if a question contains a top 10 tag from the body text?\n",
    "- Predict score based on text?\n",
    "- Predict how long a question will take to answer?\n",
    "- Relationship between score and how long question takes to answer?"
   ]
  },
  {
   "attachments": {},
   "cell_type": "markdown",
   "metadata": {},
   "source": [
    "### 1. Most Common Tags\n",
    "What are the most common tags?"
   ]
  },
  {
   "cell_type": "code",
   "execution_count": 59,
   "metadata": {},
   "outputs": [],
   "source": [
    "tags_count = (df_tags_filt\n",
    "            .groupBy('Tag')\n",
    "            .count()\n",
    "            .sort('count', ascending=False)\n",
    "            .limit(10)\n",
    "            )"
   ]
  },
  {
   "cell_type": "code",
   "execution_count": 60,
   "metadata": {},
   "outputs": [
    {
     "name": "stdout",
     "output_type": "stream",
     "text": [
      "+----------+-----+\n",
      "|       Tag|count|\n",
      "+----------+-----+\n",
      "|        c#| 4657|\n",
      "|      .net| 2628|\n",
      "|      java| 2436|\n",
      "|   asp.net| 2143|\n",
      "|       php| 1884|\n",
      "|javascript| 1799|\n",
      "|       c++| 1686|\n",
      "|    python| 1329|\n",
      "|    jquery| 1249|\n",
      "|       sql| 1234|\n",
      "+----------+-----+\n",
      "\n"
     ]
    }
   ],
   "source": [
    "tags_count.show()"
   ]
  },
  {
   "attachments": {},
   "cell_type": "markdown",
   "metadata": {},
   "source": [
    "Let's save these top 10 as a list."
   ]
  },
  {
   "cell_type": "code",
   "execution_count": 63,
   "metadata": {},
   "outputs": [
    {
     "name": "stdout",
     "output_type": "stream",
     "text": [
      "['c#', '.net', 'java', 'asp.net', 'php', 'javascript', 'c++', 'python', 'jquery', 'sql']\n"
     ]
    }
   ],
   "source": [
    "df = tags_count.select('Tag').toPandas()\n",
    "most_common_tags = df['Tag'].to_list()\n",
    "print(most_common_tags)"
   ]
  },
  {
   "cell_type": "code",
   "execution_count": null,
   "metadata": {},
   "outputs": [],
   "source": []
  },
  {
   "cell_type": "code",
   "execution_count": 41,
   "metadata": {},
   "outputs": [],
   "source": [
    "# spark.stop()"
   ]
  }
 ],
 "metadata": {
  "kernelspec": {
   "display_name": ".venvspark",
   "language": "python",
   "name": "python3"
  },
  "language_info": {
   "codemirror_mode": {
    "name": "ipython",
    "version": 3
   },
   "file_extension": ".py",
   "mimetype": "text/x-python",
   "name": "python",
   "nbconvert_exporter": "python",
   "pygments_lexer": "ipython3",
   "version": "3.9.12"
  },
  "orig_nbformat": 4
 },
 "nbformat": 4,
 "nbformat_minor": 2
}
