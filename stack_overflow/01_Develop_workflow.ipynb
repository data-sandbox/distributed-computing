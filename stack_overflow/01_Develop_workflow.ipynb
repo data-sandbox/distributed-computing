{
 "cells": [
  {
   "cell_type": "markdown",
   "metadata": {},
   "source": [
    "### 01 Develop Analysis Workflow\n",
    "\n",
    "This notebook aims to develop and test the Spark workflow before implementing everything into dedicated Python files for running on the cluster."
   ]
  },
  {
   "cell_type": "code",
   "execution_count": 1,
   "metadata": {},
   "outputs": [],
   "source": [
    "from pathlib import Path\n",
    "import pandas as pd"
   ]
  },
  {
   "cell_type": "markdown",
   "metadata": {},
   "source": [
    "Although the intention here is to practice Spark and distributed computing, let's first look at the data in Pandas and use as a sanity check with Spark dataframes."
   ]
  },
  {
   "cell_type": "code",
   "execution_count": 2,
   "metadata": {},
   "outputs": [],
   "source": [
    "# Limit how many rows to import for speed\n",
    "nrows = 100_000"
   ]
  },
  {
   "cell_type": "code",
   "execution_count": 3,
   "metadata": {},
   "outputs": [
    {
     "name": "stdout",
     "output_type": "stream",
     "text": [
      "<class 'pandas.core.frame.DataFrame'>\n",
      "RangeIndex: 100000 entries, 0 to 99999\n",
      "Data columns (total 7 columns):\n",
      " #   Column        Non-Null Count   Dtype  \n",
      "---  ------        --------------   -----  \n",
      " 0   Id            100000 non-null  int64  \n",
      " 1   OwnerUserId   95342 non-null   float64\n",
      " 2   CreationDate  100000 non-null  object \n",
      " 3   ClosedDate    3331 non-null    object \n",
      " 4   Score         100000 non-null  int64  \n",
      " 5   Title         100000 non-null  object \n",
      " 6   Body          100000 non-null  object \n",
      "dtypes: float64(1), int64(2), object(4)\n",
      "memory usage: 5.3+ MB\n"
     ]
    }
   ],
   "source": [
    "questions = pd.read_csv(Path('./assets/Questions.csv'), nrows=nrows,\n",
    "                encoding=\"ISO-8859-1\").dropna(subset=[\"Id\", \"Body\", \"CreationDate\"])\n",
    "questions.info()"
   ]
  },
  {
   "cell_type": "code",
   "execution_count": 4,
   "metadata": {},
   "outputs": [
    {
     "data": {
      "text/html": [
       "<div>\n",
       "<style scoped>\n",
       "    .dataframe tbody tr th:only-of-type {\n",
       "        vertical-align: middle;\n",
       "    }\n",
       "\n",
       "    .dataframe tbody tr th {\n",
       "        vertical-align: top;\n",
       "    }\n",
       "\n",
       "    .dataframe thead th {\n",
       "        text-align: right;\n",
       "    }\n",
       "</style>\n",
       "<table border=\"1\" class=\"dataframe\">\n",
       "  <thead>\n",
       "    <tr style=\"text-align: right;\">\n",
       "      <th></th>\n",
       "      <th>Id</th>\n",
       "      <th>OwnerUserId</th>\n",
       "      <th>CreationDate</th>\n",
       "      <th>ClosedDate</th>\n",
       "      <th>Score</th>\n",
       "      <th>Title</th>\n",
       "      <th>Body</th>\n",
       "    </tr>\n",
       "  </thead>\n",
       "  <tbody>\n",
       "    <tr>\n",
       "      <th>0</th>\n",
       "      <td>80</td>\n",
       "      <td>26.0</td>\n",
       "      <td>2008-08-01T13:57:07Z</td>\n",
       "      <td>NaN</td>\n",
       "      <td>26</td>\n",
       "      <td>SQLStatement.execute() - multiple queries in o...</td>\n",
       "      <td>&lt;p&gt;I've written a database generation script i...</td>\n",
       "    </tr>\n",
       "    <tr>\n",
       "      <th>1</th>\n",
       "      <td>90</td>\n",
       "      <td>58.0</td>\n",
       "      <td>2008-08-01T14:41:24Z</td>\n",
       "      <td>2012-12-26T03:45:49Z</td>\n",
       "      <td>144</td>\n",
       "      <td>Good branching and merging tutorials for Torto...</td>\n",
       "      <td>&lt;p&gt;Are there any really good tutorials explain...</td>\n",
       "    </tr>\n",
       "    <tr>\n",
       "      <th>2</th>\n",
       "      <td>120</td>\n",
       "      <td>83.0</td>\n",
       "      <td>2008-08-01T15:50:08Z</td>\n",
       "      <td>NaN</td>\n",
       "      <td>21</td>\n",
       "      <td>ASP.NET Site Maps</td>\n",
       "      <td>&lt;p&gt;Has anyone got experience creating &lt;strong&gt;...</td>\n",
       "    </tr>\n",
       "    <tr>\n",
       "      <th>3</th>\n",
       "      <td>180</td>\n",
       "      <td>2089740.0</td>\n",
       "      <td>2008-08-01T18:42:19Z</td>\n",
       "      <td>NaN</td>\n",
       "      <td>53</td>\n",
       "      <td>Function for creating color wheels</td>\n",
       "      <td>&lt;p&gt;This is something I've pseudo-solved many t...</td>\n",
       "    </tr>\n",
       "    <tr>\n",
       "      <th>4</th>\n",
       "      <td>260</td>\n",
       "      <td>91.0</td>\n",
       "      <td>2008-08-01T23:22:08Z</td>\n",
       "      <td>NaN</td>\n",
       "      <td>49</td>\n",
       "      <td>Adding scripting functionality to .NET applica...</td>\n",
       "      <td>&lt;p&gt;I have a little game written in C#. It uses...</td>\n",
       "    </tr>\n",
       "  </tbody>\n",
       "</table>\n",
       "</div>"
      ],
      "text/plain": [
       "    Id  OwnerUserId          CreationDate            ClosedDate  Score   \n",
       "0   80         26.0  2008-08-01T13:57:07Z                   NaN     26  \\\n",
       "1   90         58.0  2008-08-01T14:41:24Z  2012-12-26T03:45:49Z    144   \n",
       "2  120         83.0  2008-08-01T15:50:08Z                   NaN     21   \n",
       "3  180    2089740.0  2008-08-01T18:42:19Z                   NaN     53   \n",
       "4  260         91.0  2008-08-01T23:22:08Z                   NaN     49   \n",
       "\n",
       "                                               Title   \n",
       "0  SQLStatement.execute() - multiple queries in o...  \\\n",
       "1  Good branching and merging tutorials for Torto...   \n",
       "2                                  ASP.NET Site Maps   \n",
       "3                 Function for creating color wheels   \n",
       "4  Adding scripting functionality to .NET applica...   \n",
       "\n",
       "                                                Body  \n",
       "0  <p>I've written a database generation script i...  \n",
       "1  <p>Are there any really good tutorials explain...  \n",
       "2  <p>Has anyone got experience creating <strong>...  \n",
       "3  <p>This is something I've pseudo-solved many t...  \n",
       "4  <p>I have a little game written in C#. It uses...  "
      ]
     },
     "execution_count": 4,
     "metadata": {},
     "output_type": "execute_result"
    }
   ],
   "source": [
    "questions.sort_values(by=\"Id\").head(5)"
   ]
  },
  {
   "cell_type": "code",
   "execution_count": 5,
   "metadata": {},
   "outputs": [
    {
     "name": "stdout",
     "output_type": "stream",
     "text": [
      "<class 'pandas.core.frame.DataFrame'>\n",
      "Index: 96675 entries, 0 to 99999\n",
      "Data columns (total 6 columns):\n",
      " #   Column        Non-Null Count  Dtype  \n",
      "---  ------        --------------  -----  \n",
      " 0   Id            96675 non-null  int64  \n",
      " 1   OwnerUserId   96675 non-null  float64\n",
      " 2   CreationDate  96675 non-null  object \n",
      " 3   ParentId      96675 non-null  int64  \n",
      " 4   Score         96675 non-null  int64  \n",
      " 5   Body          96675 non-null  object \n",
      "dtypes: float64(1), int64(3), object(2)\n",
      "memory usage: 5.2+ MB\n"
     ]
    }
   ],
   "source": [
    "answers = pd.read_csv(Path('./assets/Answers.csv'), nrows=nrows,\n",
    "                encoding=\"ISO-8859-1\").dropna()\n",
    "answers.info()"
   ]
  },
  {
   "cell_type": "code",
   "execution_count": 6,
   "metadata": {},
   "outputs": [
    {
     "data": {
      "text/html": [
       "<div>\n",
       "<style scoped>\n",
       "    .dataframe tbody tr th:only-of-type {\n",
       "        vertical-align: middle;\n",
       "    }\n",
       "\n",
       "    .dataframe tbody tr th {\n",
       "        vertical-align: top;\n",
       "    }\n",
       "\n",
       "    .dataframe thead th {\n",
       "        text-align: right;\n",
       "    }\n",
       "</style>\n",
       "<table border=\"1\" class=\"dataframe\">\n",
       "  <thead>\n",
       "    <tr style=\"text-align: right;\">\n",
       "      <th></th>\n",
       "      <th>Id</th>\n",
       "      <th>OwnerUserId</th>\n",
       "      <th>CreationDate</th>\n",
       "      <th>ParentId</th>\n",
       "      <th>Score</th>\n",
       "      <th>Body</th>\n",
       "    </tr>\n",
       "  </thead>\n",
       "  <tbody>\n",
       "    <tr>\n",
       "      <th>0</th>\n",
       "      <td>92</td>\n",
       "      <td>61.0</td>\n",
       "      <td>2008-08-01T14:45:37Z</td>\n",
       "      <td>90</td>\n",
       "      <td>13</td>\n",
       "      <td>&lt;p&gt;&lt;a href=\"http://svnbook.red-bean.com/\"&gt;Vers...</td>\n",
       "    </tr>\n",
       "    <tr>\n",
       "      <th>1</th>\n",
       "      <td>124</td>\n",
       "      <td>26.0</td>\n",
       "      <td>2008-08-01T16:09:47Z</td>\n",
       "      <td>80</td>\n",
       "      <td>12</td>\n",
       "      <td>&lt;p&gt;I wound up using this. It is a kind of a ha...</td>\n",
       "    </tr>\n",
       "    <tr>\n",
       "      <th>2</th>\n",
       "      <td>199</td>\n",
       "      <td>50.0</td>\n",
       "      <td>2008-08-01T19:36:46Z</td>\n",
       "      <td>180</td>\n",
       "      <td>1</td>\n",
       "      <td>&lt;p&gt;I've read somewhere the human eye can't dis...</td>\n",
       "    </tr>\n",
       "    <tr>\n",
       "      <th>3</th>\n",
       "      <td>269</td>\n",
       "      <td>91.0</td>\n",
       "      <td>2008-08-01T23:49:57Z</td>\n",
       "      <td>260</td>\n",
       "      <td>4</td>\n",
       "      <td>&lt;p&gt;Yes, I thought about that, but I soon figur...</td>\n",
       "    </tr>\n",
       "    <tr>\n",
       "      <th>4</th>\n",
       "      <td>307</td>\n",
       "      <td>49.0</td>\n",
       "      <td>2008-08-02T01:49:46Z</td>\n",
       "      <td>260</td>\n",
       "      <td>28</td>\n",
       "      <td>&lt;p&gt;&lt;a href=\"http://www.codeproject.com/Article...</td>\n",
       "    </tr>\n",
       "  </tbody>\n",
       "</table>\n",
       "</div>"
      ],
      "text/plain": [
       "    Id  OwnerUserId          CreationDate  ParentId  Score   \n",
       "0   92         61.0  2008-08-01T14:45:37Z        90     13  \\\n",
       "1  124         26.0  2008-08-01T16:09:47Z        80     12   \n",
       "2  199         50.0  2008-08-01T19:36:46Z       180      1   \n",
       "3  269         91.0  2008-08-01T23:49:57Z       260      4   \n",
       "4  307         49.0  2008-08-02T01:49:46Z       260     28   \n",
       "\n",
       "                                                Body  \n",
       "0  <p><a href=\"http://svnbook.red-bean.com/\">Vers...  \n",
       "1  <p>I wound up using this. It is a kind of a ha...  \n",
       "2  <p>I've read somewhere the human eye can't dis...  \n",
       "3  <p>Yes, I thought about that, but I soon figur...  \n",
       "4  <p><a href=\"http://www.codeproject.com/Article...  "
      ]
     },
     "execution_count": 6,
     "metadata": {},
     "output_type": "execute_result"
    }
   ],
   "source": [
    "answers.head(5)"
   ]
  },
  {
   "cell_type": "code",
   "execution_count": 7,
   "metadata": {},
   "outputs": [
    {
     "name": "stdout",
     "output_type": "stream",
     "text": [
      "<class 'pandas.core.frame.DataFrame'>\n",
      "Index: 3749881 entries, 0 to 3750993\n",
      "Data columns (total 2 columns):\n",
      " #   Column  Dtype \n",
      "---  ------  ----- \n",
      " 0   Id      int64 \n",
      " 1   Tag     object\n",
      "dtypes: int64(1), object(1)\n",
      "memory usage: 85.8+ MB\n"
     ]
    }
   ],
   "source": [
    "tags = pd.read_csv(Path('./assets/Tags.csv'),\n",
    "                encoding=\"ISO-8859-1\").dropna()\n",
    "tags.info()"
   ]
  },
  {
   "cell_type": "code",
   "execution_count": 8,
   "metadata": {},
   "outputs": [
    {
     "data": {
      "text/html": [
       "<div>\n",
       "<style scoped>\n",
       "    .dataframe tbody tr th:only-of-type {\n",
       "        vertical-align: middle;\n",
       "    }\n",
       "\n",
       "    .dataframe tbody tr th {\n",
       "        vertical-align: top;\n",
       "    }\n",
       "\n",
       "    .dataframe thead th {\n",
       "        text-align: right;\n",
       "    }\n",
       "</style>\n",
       "<table border=\"1\" class=\"dataframe\">\n",
       "  <thead>\n",
       "    <tr style=\"text-align: right;\">\n",
       "      <th></th>\n",
       "      <th>Id</th>\n",
       "      <th>Tag</th>\n",
       "    </tr>\n",
       "  </thead>\n",
       "  <tbody>\n",
       "    <tr>\n",
       "      <th>0</th>\n",
       "      <td>80</td>\n",
       "      <td>flex</td>\n",
       "    </tr>\n",
       "    <tr>\n",
       "      <th>1</th>\n",
       "      <td>80</td>\n",
       "      <td>actionscript-3</td>\n",
       "    </tr>\n",
       "    <tr>\n",
       "      <th>2</th>\n",
       "      <td>80</td>\n",
       "      <td>air</td>\n",
       "    </tr>\n",
       "    <tr>\n",
       "      <th>3</th>\n",
       "      <td>90</td>\n",
       "      <td>svn</td>\n",
       "    </tr>\n",
       "    <tr>\n",
       "      <th>4</th>\n",
       "      <td>90</td>\n",
       "      <td>tortoisesvn</td>\n",
       "    </tr>\n",
       "  </tbody>\n",
       "</table>\n",
       "</div>"
      ],
      "text/plain": [
       "   Id             Tag\n",
       "0  80            flex\n",
       "1  80  actionscript-3\n",
       "2  80             air\n",
       "3  90             svn\n",
       "4  90     tortoisesvn"
      ]
     },
     "execution_count": 8,
     "metadata": {},
     "output_type": "execute_result"
    }
   ],
   "source": [
    "tags.head()"
   ]
  },
  {
   "cell_type": "markdown",
   "metadata": {},
   "source": [
    "### PySpark: Preprocess\n",
    "\n",
    "Now let's jump into Spark. We'll start by reading in the csv files. Note that we set a row limit to minimize computations here. When we're ready to run everything on the cluster, the limit will be removed."
   ]
  },
  {
   "cell_type": "code",
   "execution_count": 9,
   "metadata": {
    "tags": []
   },
   "outputs": [
    {
     "name": "stderr",
     "output_type": "stream",
     "text": [
      "Setting default log level to \"WARN\".\n",
      "To adjust logging level use sc.setLogLevel(newLevel). For SparkR, use setLogLevel(newLevel).\n",
      "23/04/24 11:40:52 WARN NativeCodeLoader: Unable to load native-hadoop library for your platform... using builtin-java classes where applicable\n"
     ]
    }
   ],
   "source": [
    "from pyspark.sql import SparkSession\n",
    "from pyspark.sql.types import IntegerType, LongType, StringType\n",
    "from pyspark.sql import functions as F\n",
    "\n",
    "spark = (SparkSession.builder\n",
    "        .master(\"local[*]\")\n",
    "        .appName(\"StackOverflow\")\n",
    "        .getOrCreate()\n",
    ")"
   ]
  },
  {
   "cell_type": "code",
   "execution_count": 10,
   "metadata": {
    "tags": []
   },
   "outputs": [],
   "source": [
    "df_questions = (spark.read.options(encoding=\"ISO-8859-1\",\n",
    "                header=True, multiLine=False, mode=\"DROPMALFORMED\")\n",
    "                .csv(\"./assets/Questions.csv\")\n",
    "                .limit(10_000)\n",
    "                )\n",
    "\n",
    "df_answers = (spark.read.options(encoding=\"ISO-8859-1\", \n",
    "                header=True, mode=\"DROPMALFORMED\", multiLine=False)\n",
    "                .csv('./assets/Answers.csv')\n",
    "                .limit(10_000)\n",
    "                )\n",
    "\n",
    "df_tags = (spark.read.options(encoding=\"ISO-8859-1\", \n",
    "            header=True, mode=\"DROPMALFORMED\", multiLine=False)\n",
    "            .csv('./assets/Tags.csv')\n",
    "            .limit(10_000)\n",
    "            )"
   ]
  },
  {
   "cell_type": "code",
   "execution_count": 11,
   "metadata": {},
   "outputs": [
    {
     "name": "stdout",
     "output_type": "stream",
     "text": [
      "10000 10000 10000\n"
     ]
    }
   ],
   "source": [
    "# Confirm row limits\n",
    "print(df_questions.count(), df_answers.count(), df_tags.count())"
   ]
  },
  {
   "cell_type": "code",
   "execution_count": 12,
   "metadata": {},
   "outputs": [
    {
     "name": "stdout",
     "output_type": "stream",
     "text": [
      "root\n",
      " |-- Id: string (nullable = true)\n",
      " |-- OwnerUserId: string (nullable = true)\n",
      " |-- CreationDate: string (nullable = true)\n",
      " |-- ClosedDate: string (nullable = true)\n",
      " |-- Score: string (nullable = true)\n",
      " |-- Title: string (nullable = true)\n",
      " |-- Body: string (nullable = true)\n",
      "\n",
      "root\n",
      " |-- Id: string (nullable = true)\n",
      " |-- OwnerUserId: string (nullable = true)\n",
      " |-- CreationDate: string (nullable = true)\n",
      " |-- ParentId: string (nullable = true)\n",
      " |-- Score: string (nullable = true)\n",
      " |-- Body: string (nullable = true)\n",
      "\n",
      "root\n",
      " |-- Id: string (nullable = true)\n",
      " |-- Tag: string (nullable = true)\n",
      "\n"
     ]
    }
   ],
   "source": [
    "# Inspect Schemas\n",
    "df_questions.printSchema()\n",
    "df_answers.printSchema()\n",
    "df_tags.printSchema()"
   ]
  },
  {
   "cell_type": "code",
   "execution_count": 13,
   "metadata": {
    "tags": []
   },
   "outputs": [],
   "source": [
    "# Convert datatypes and add column for finding time differences\n",
    "\n",
    "df_quest_filt = (df_questions\n",
    "                .withColumn('Id', df_questions['Id'].cast(IntegerType()))\n",
    "                .withColumn('OwnerUserId', df_questions['OwnerUserId'].cast(IntegerType()))\n",
    "                .withColumn('CreationDate', F.regexp_replace('CreationDate', 'T', ' '))\n",
    "                .withColumn('CreationDate', F.regexp_replace('CreationDate', 'Z', ''))\n",
    "                .withColumn('CreationTime', F.unix_timestamp('CreationDate', 'y-M-d HH:mm:ss').cast(LongType()))\n",
    "                .withColumn('ClosedDate', F.regexp_replace('ClosedDate', 'T', ' '))\n",
    "                .withColumn('ClosedDate', F.regexp_replace('ClosedDate', 'Z', ''))\n",
    "                .withColumn('ClosedTime', F.unix_timestamp('ClosedDate', 'y-M-d HH:mm:ss').cast(LongType()))\n",
    "                .withColumn('ElapsedTime', (F.col('ClosedTime') - F.col('CreationTime')))\n",
    "                .withColumn('Score', df_questions['Score'].cast(IntegerType()))\n",
    "                ).na.drop()\n",
    "\n",
    "df_answers_filt = (df_answers\n",
    "                    .withColumn('Id', df_answers['Id'].cast(IntegerType()))\n",
    "                    .withColumn('OwnerUserId', df_answers['OwnerUserId'].cast(IntegerType()))\n",
    "                    .withColumn('ParentId', df_answers['ParentId'].cast(IntegerType()))\n",
    "                    .withColumn('Score', df_answers['Score'].cast(IntegerType()))\n",
    "                    .withColumn('CreationDate', F.regexp_replace('CreationDate', 'T', ' '))\n",
    "                    .withColumn('CreationDate', F.regexp_replace('CreationDate', 'Z', ''))\n",
    "                    .withColumn('CreationTime', F.unix_timestamp('CreationDate', 'y-M-d HH:mm:ss').cast(LongType()))\n",
    "                    ).na.drop()\n",
    "\n",
    "df_tags_filt = (df_tags\n",
    "                .withColumn('Id', df_tags['Id'].cast(IntegerType()))\n",
    "                ).na.drop()        "
   ]
  },
  {
   "cell_type": "code",
   "execution_count": 14,
   "metadata": {},
   "outputs": [
    {
     "name": "stderr",
     "output_type": "stream",
     "text": [
      "                                                                                \r"
     ]
    },
    {
     "name": "stdout",
     "output_type": "stream",
     "text": [
      "562 9397 10000\n"
     ]
    }
   ],
   "source": [
    "# Inspect counts after dropping nulls\n",
    "print(df_quest_filt.count(), df_answers_filt.count(), df_tags_filt.count())"
   ]
  },
  {
   "cell_type": "markdown",
   "metadata": {},
   "source": [
    "Around 97% of questions are eliminated after dropping nulls! This is most likely due to nulls in question's \"ClosedDate\" column. This also indicates that taking the time difference between a question's CreationDate and ClosedDate will not be a good indicator. Let's try a different approach to removing nulls."
   ]
  },
  {
   "cell_type": "code",
   "execution_count": 15,
   "metadata": {
    "tags": []
   },
   "outputs": [],
   "source": [
    "df_quest_filt = (df_questions\n",
    "                .withColumn('Id', df_questions['Id'].cast(IntegerType()))\n",
    "                .withColumn('OwnerUserId', df_questions['OwnerUserId'].cast(IntegerType()))\n",
    "                .withColumn('CreationDate', F.regexp_replace('CreationDate', 'T', ' '))\n",
    "                .withColumn('CreationDate', F.regexp_replace('CreationDate', 'Z', ''))\n",
    "                .withColumn('CreationTime', F.unix_timestamp('CreationDate', 'y-M-d HH:mm:ss').cast(LongType()))\n",
    "                .withColumn('ClosedDate', F.regexp_replace('ClosedDate', 'T', ' '))\n",
    "                .withColumn('ClosedDate', F.regexp_replace('ClosedDate', 'Z', ''))\n",
    "                .withColumn('ClosedTime', F.unix_timestamp('ClosedDate', 'y-M-d HH:mm:ss').cast(LongType()))\n",
    "                .withColumn('Score', df_questions['Score'].cast(IntegerType()))\n",
    "                ).na.drop(subset=[\"Id\", \"Body\", \"CreationTime\"])"
   ]
  },
  {
   "cell_type": "code",
   "execution_count": 16,
   "metadata": {},
   "outputs": [
    {
     "data": {
      "text/plain": [
       "1155"
      ]
     },
     "execution_count": 16,
     "metadata": {},
     "output_type": "execute_result"
    }
   ],
   "source": [
    "df_quest_filt.count()"
   ]
  },
  {
   "cell_type": "code",
   "execution_count": 17,
   "metadata": {},
   "outputs": [
    {
     "name": "stderr",
     "output_type": "stream",
     "text": [
      "[Stage 24:============================================>           (12 + 3) / 15]\r"
     ]
    },
    {
     "name": "stdout",
     "output_type": "stream",
     "text": [
      "+---+-----------+-------------------+-------------------+-----+--------------------+--------------------+------------+----------+\n",
      "| Id|OwnerUserId|       CreationDate|         ClosedDate|Score|               Title|                Body|CreationTime|ClosedTime|\n",
      "+---+-----------+-------------------+-------------------+-----+--------------------+--------------------+------------+----------+\n",
      "| 80|         26|2008-08-01 13:57:07|                 NA|   26|SQLStatement.exec...|\"<p>I've written ...|  1217620627|      null|\n",
      "| 90|         58|2008-08-01 14:41:24|2012-12-26 03:45:49|  144|Good branching an...|\"<p>Are there any...|  1217623284|1356518749|\n",
      "|120|         83|2008-08-01 15:50:08|                 NA|   21|   ASP.NET Site Maps|<p>Has anyone got...|  1217627408|      null|\n",
      "|180|    2089740|2008-08-01 18:42:19|                 NA|   53|Function for crea...|<p>This is someth...|  1217637739|      null|\n",
      "|260|         91|2008-08-01 23:22:08|                 NA|   49|Adding scripting ...|<p>I have a littl...|  1217654528|      null|\n",
      "|330|         63|2008-08-02 02:51:36|                 NA|   29|Should I use nest...|<p>I am working o...|  1217667096|      null|\n",
      "|470|         71|2008-08-02 15:11:47|2016-03-26 05:23:29|   13|Homegrown consump...|<p>I've been writ...|  1217711507|1458991409|\n",
      "|580|         91|2008-08-02 23:30:59|                 NA|   21|Deploying SQL Ser...|<p>I wonder how y...|  1217741459|      null|\n",
      "|650|        143|2008-08-03 11:12:52|                 NA|   79|Automatically upd...|<p>I would like t...|  1217783572|      null|\n",
      "|810|        233|2008-08-03 20:35:01|                 NA|    9|Visual Studio Set...|<p>I'm trying to ...|  1217817301|      null|\n",
      "+---+-----------+-------------------+-------------------+-----+--------------------+--------------------+------------+----------+\n",
      "only showing top 10 rows\n",
      "\n"
     ]
    },
    {
     "name": "stderr",
     "output_type": "stream",
     "text": [
      "                                                                                \r"
     ]
    }
   ],
   "source": [
    "df_quest_filt.sort(\"Id\", ascending=True).show(10)"
   ]
  },
  {
   "attachments": {},
   "cell_type": "markdown",
   "metadata": {},
   "source": [
    "This approach looks much better. Let's start exploring the data. Some potentially interesting questions:\n",
    "- What are the most commmon tags?\n",
    "- Can we predict if a question contains a top tag from the body text?\n",
    "- Can we predict question score based on text?\n",
    "- Can we predict how long a question will take to answer?\n",
    "- Relationship between score and how long a question takes to answer?"
   ]
  },
  {
   "cell_type": "markdown",
   "metadata": {},
   "source": [
    "### 1. Most Common Tags\n",
    "What are the most common tags?"
   ]
  },
  {
   "cell_type": "code",
   "execution_count": 18,
   "metadata": {
    "tags": []
   },
   "outputs": [],
   "source": [
    "tags_count = (df_tags_filt\n",
    "            .groupBy('Tag')\n",
    "            .count()\n",
    "            .sort('count', ascending=False)\n",
    "            .limit(10)\n",
    "            )"
   ]
  },
  {
   "cell_type": "code",
   "execution_count": 19,
   "metadata": {
    "tags": []
   },
   "outputs": [
    {
     "name": "stdout",
     "output_type": "stream",
     "text": [
      "+----------+-----+\n",
      "|       Tag|count|\n",
      "+----------+-----+\n",
      "|        c#|  399|\n",
      "|      .net|  362|\n",
      "|      java|  254|\n",
      "|   asp.net|  225|\n",
      "|       c++|  178|\n",
      "|javascript|  158|\n",
      "|sql-server|  141|\n",
      "|       sql|  130|\n",
      "|    python|  127|\n",
      "|       php|  124|\n",
      "+----------+-----+\n",
      "\n"
     ]
    }
   ],
   "source": [
    "tags_count.show()"
   ]
  },
  {
   "cell_type": "markdown",
   "metadata": {},
   "source": [
    "Let's save these top 10 as a list."
   ]
  },
  {
   "cell_type": "code",
   "execution_count": 20,
   "metadata": {},
   "outputs": [
    {
     "name": "stdout",
     "output_type": "stream",
     "text": [
      "['c#', '.net', 'java', 'asp.net', 'c++', 'javascript', 'sql-server', 'sql', 'python', 'php']\n"
     ]
    }
   ],
   "source": [
    "df = tags_count.select('Tag').toPandas()\n",
    "most_common_tags = df['Tag'].to_list()\n",
    "print(most_common_tags)"
   ]
  },
  {
   "attachments": {},
   "cell_type": "markdown",
   "metadata": {},
   "source": [
    "Now let's build a model to predict whether or not a question contains a top 10 tag. We can accomplish this by joining dataframes and adding a yes/no label for whether a question contains a such a tag."
   ]
  },
  {
   "cell_type": "code",
   "execution_count": 21,
   "metadata": {},
   "outputs": [
    {
     "name": "stderr",
     "output_type": "stream",
     "text": [
      "[Stage 33:============================================>           (12 + 3) / 15]\r"
     ]
    },
    {
     "name": "stdout",
     "output_type": "stream",
     "text": [
      "+---+-----------+-------------------+-------------------+-----+--------------------+--------------------+------------+----------+\n",
      "| Id|OwnerUserId|       CreationDate|         ClosedDate|Score|               Title|                Body|CreationTime|ClosedTime|\n",
      "+---+-----------+-------------------+-------------------+-----+--------------------+--------------------+------------+----------+\n",
      "| 80|         26|2008-08-01 13:57:07|                 NA|   26|SQLStatement.exec...|\"<p>I've written ...|  1217620627|      null|\n",
      "| 90|         58|2008-08-01 14:41:24|2012-12-26 03:45:49|  144|Good branching an...|\"<p>Are there any...|  1217623284|1356518749|\n",
      "|120|         83|2008-08-01 15:50:08|                 NA|   21|   ASP.NET Site Maps|<p>Has anyone got...|  1217627408|      null|\n",
      "+---+-----------+-------------------+-------------------+-----+--------------------+--------------------+------------+----------+\n",
      "only showing top 3 rows\n",
      "\n"
     ]
    },
    {
     "name": "stderr",
     "output_type": "stream",
     "text": [
      "                                                                                \r"
     ]
    }
   ],
   "source": [
    "df_quest_filt.show(3)"
   ]
  },
  {
   "cell_type": "code",
   "execution_count": 22,
   "metadata": {
    "tags": []
   },
   "outputs": [
    {
     "name": "stdout",
     "output_type": "stream",
     "text": [
      "+---+--------------------+\n",
      "| Id|                Tags|\n",
      "+---+--------------------+\n",
      "| 80|[flex, actionscri...|\n",
      "| 90|[svn, tortoisesvn...|\n",
      "|120|[sql, asp.net, si...|\n",
      "|180|[algorithm, langu...|\n",
      "|260|[c#, .net, script...|\n",
      "+---+--------------------+\n",
      "only showing top 5 rows\n",
      "\n"
     ]
    }
   ],
   "source": [
    "# Groupby id and collect all tags into list\n",
    "df_id_tags = (df_tags_filt\n",
    "                .groupBy('Id')\n",
    "                .agg(F.collect_list('Tag')\n",
    "                .alias('Tags'))\n",
    "                .sort('Id', ascending=True)\n",
    ")\n",
    "\n",
    "df_id_tags.show(5)"
   ]
  },
  {
   "cell_type": "code",
   "execution_count": 23,
   "metadata": {
    "tags": []
   },
   "outputs": [
    {
     "name": "stderr",
     "output_type": "stream",
     "text": [
      "[Stage 39:============================================>           (12 + 3) / 15]\r"
     ]
    },
    {
     "name": "stdout",
     "output_type": "stream",
     "text": [
      "+---+-----------+-------------------+-------------------+-----+--------------------+--------------------+------------+----------+\n",
      "| Id|OwnerUserId|       CreationDate|         ClosedDate|Score|               Title|                Body|CreationTime|ClosedTime|\n",
      "+---+-----------+-------------------+-------------------+-----+--------------------+--------------------+------------+----------+\n",
      "| 80|         26|2008-08-01 13:57:07|                 NA|   26|SQLStatement.exec...|\"<p>I've written ...|  1217620627|      null|\n",
      "| 90|         58|2008-08-01 14:41:24|2012-12-26 03:45:49|  144|Good branching an...|\"<p>Are there any...|  1217623284|1356518749|\n",
      "|120|         83|2008-08-01 15:50:08|                 NA|   21|   ASP.NET Site Maps|<p>Has anyone got...|  1217627408|      null|\n",
      "|180|    2089740|2008-08-01 18:42:19|                 NA|   53|Function for crea...|<p>This is someth...|  1217637739|      null|\n",
      "+---+-----------+-------------------+-------------------+-----+--------------------+--------------------+------------+----------+\n",
      "only showing top 4 rows\n",
      "\n"
     ]
    },
    {
     "name": "stderr",
     "output_type": "stream",
     "text": [
      "                                                                                \r"
     ]
    }
   ],
   "source": [
    "df_quest_filt.show(4)"
   ]
  },
  {
   "cell_type": "code",
   "execution_count": 24,
   "metadata": {
    "tags": []
   },
   "outputs": [
    {
     "name": "stdout",
     "output_type": "stream",
     "text": [
      "+---+--------------------+-----+--------------------+\n",
      "| Id|                Tags|Score|                Body|\n",
      "+---+--------------------+-----+--------------------+\n",
      "| 80|[flex, actionscri...|   26|\"<p>I've written ...|\n",
      "| 90|[svn, tortoisesvn...|  144|\"<p>Are there any...|\n",
      "|120|[sql, asp.net, si...|   21|<p>Has anyone got...|\n",
      "|180|[algorithm, langu...|   53|<p>This is someth...|\n",
      "|260|[c#, .net, script...|   49|<p>I have a littl...|\n",
      "+---+--------------------+-----+--------------------+\n",
      "only showing top 5 rows\n",
      "\n"
     ]
    }
   ],
   "source": [
    "# Join dataframes\n",
    "df_body_tags = (df_quest_filt\n",
    "                  .join(df_id_tags,\n",
    "                        df_quest_filt['Id'] == df_id_tags['Id'],\n",
    "                        'inner')\n",
    "                  .select(df_quest_filt['Id'], 'Tags', 'Score', 'Body')\n",
    "                  )\n",
    "\n",
    "df_body_tags.show(5)"
   ]
  },
  {
   "cell_type": "code",
   "execution_count": 25,
   "metadata": {},
   "outputs": [],
   "source": [
    "# Test writing the results to csv\n",
    "(df_body_tags\n",
    "    .withColumn('Tags', F.col('Tags').cast('string'))\n",
    "    .write.option(\"header\", \"true\")\n",
    "    .mode(\"overwrite\")\n",
    "    .csv(\"output\")\n",
    ")"
   ]
  },
  {
   "attachments": {},
   "cell_type": "markdown",
   "metadata": {},
   "source": [
    "With the proper dataframes joined, the next step is to parse the body text. We'll use the `udf` function to accomplish this. However, as you'll see the following steps results in unknown errors associated with `udf` and failure to \"open socket to Python daemon\". What's more confusing is that I've previously used the same `udf` workflow successfully on a different project on a different machine."
   ]
  },
  {
   "cell_type": "code",
   "execution_count": 26,
   "metadata": {},
   "outputs": [],
   "source": [
    "from pyspark.sql.functions import udf\n",
    "\n",
    "# barebones udf function for debugging\n",
    "def parse_body(body):\n",
    "    return body\n",
    "\n",
    "parse = udf(parse_body, StringType())\n",
    "\n",
    "df_test = (df_quest_filt\n",
    "           .withColumn('body_parsed', parse('Body'))\n",
    "        )\n",
    "\n",
    "# TODO alternatives also attempted\n",
    "# parse = udf(lambda x: parse_body(x), StringType())\n",
    "# \n",
    "# @udf(returnType=StringType())\n",
    "# def parse_body(body):\n",
    "#     # html = BeautifulSoup(body)\n",
    "#     return body\n",
    "# \n",
    "# df_test = (df_body_tags\n",
    "#                   .withColumn('ParsedBody', parse_body(F.col('Body')))\n",
    "#                   )"
   ]
  },
  {
   "cell_type": "code",
   "execution_count": 27,
   "metadata": {
    "tags": []
   },
   "outputs": [
    {
     "name": "stderr",
     "output_type": "stream",
     "text": [
      "[Stage 54:=========================================>              (11 + 4) / 15]\r"
     ]
    },
    {
     "name": "stdout",
     "output_type": "stream",
     "text": [
      "+---+-----------+-------------------+-------------------+-----+--------------------+--------------------+------------+----------+--------------------+\n",
      "| Id|OwnerUserId|       CreationDate|         ClosedDate|Score|               Title|                Body|CreationTime|ClosedTime|         body_parsed|\n",
      "+---+-----------+-------------------+-------------------+-----+--------------------+--------------------+------------+----------+--------------------+\n",
      "| 80|         26|2008-08-01 13:57:07|                 NA|   26|SQLStatement.exec...|\"<p>I've written ...|  1217620627|      null|\"<p>I've written ...|\n",
      "| 90|         58|2008-08-01 14:41:24|2012-12-26 03:45:49|  144|Good branching an...|\"<p>Are there any...|  1217623284|1356518749|\"<p>Are there any...|\n",
      "|120|         83|2008-08-01 15:50:08|                 NA|   21|   ASP.NET Site Maps|<p>Has anyone got...|  1217627408|      null|<p>Has anyone got...|\n",
      "|180|    2089740|2008-08-01 18:42:19|                 NA|   53|Function for crea...|<p>This is someth...|  1217637739|      null|<p>This is someth...|\n",
      "|260|         91|2008-08-01 23:22:08|                 NA|   49|Adding scripting ...|<p>I have a littl...|  1217654528|      null|<p>I have a littl...|\n",
      "+---+-----------+-------------------+-------------------+-----+--------------------+--------------------+------------+----------+--------------------+\n",
      "only showing top 5 rows\n",
      "\n"
     ]
    },
    {
     "name": "stderr",
     "output_type": "stream",
     "text": [
      "                                                                                \r"
     ]
    }
   ],
   "source": [
    "df_test.show(5)"
   ]
  },
  {
   "attachments": {},
   "cell_type": "markdown",
   "metadata": {},
   "source": [
    "`udf` function is now working! Root cause of previous error \"Py4JNetworkError: An error occurred while trying to connect to the Java server\" was due to being connected to a VPN. Despite the operation running locally, the VPN appears to effect the hostname or IP address of the bind listening sockets.\n",
    "\n",
    "Also experimented with setting the `JAVA_HOME` environmental variable as the PySpark documentation mentions this should be properly set. However, the code appears to run without error even without explicitly setting this variable.\n",
    "\n",
    "For more info:\n",
    "- https://towardsdatascience.com/spark-fix-cant-assign-driver-32406580375\n",
    "- https://mkyong.com/java/how-to-set-java_home-environment-variable-on-mac-os-x/\n"
   ]
  },
  {
   "attachments": {},
   "cell_type": "markdown",
   "metadata": {},
   "source": [
    "**Aside:** Syntax for submitting a Spark job locally is:\n",
    "```bash\n",
    "spark-submit main.py --questions=./assets/Questions.csv --answers=./assets/Answers.csv --tags=./assets/Tags.csv\n",
    "```"
   ]
  },
  {
   "cell_type": "code",
   "execution_count": 28,
   "metadata": {},
   "outputs": [],
   "source": [
    "spark.stop()"
   ]
  }
 ],
 "metadata": {
  "kernelspec": {
   "display_name": "Python 3 (ipykernel)",
   "language": "python",
   "name": "python3"
  },
  "language_info": {
   "codemirror_mode": {
    "name": "ipython",
    "version": 3
   },
   "file_extension": ".py",
   "mimetype": "text/x-python",
   "name": "python",
   "nbconvert_exporter": "python",
   "pygments_lexer": "ipython3",
   "version": "3.10.11"
  }
 },
 "nbformat": 4,
 "nbformat_minor": 4
}
